{
 "cells": [
  {
   "cell_type": "code",
   "execution_count": 1,
   "metadata": {
    "collapsed": false
   },
   "outputs": [],
   "source": [
    "# Makes print and division act like Python 3\n",
    "from __future__ import print_function, division\n",
    "\n",
    "# Import the usual libraries\n",
    "import numpy as np\n",
    "import matplotlib\n",
    "import matplotlib.pyplot as plt\n",
    "import datetime\n",
    "\n",
    "import pandas as pd\n",
    "\n",
    "# seaborn package for making pretty plots, but not necessary\n",
    "try:\n",
    "    import seaborn as sns\n",
    "    params =   {'xtick.direction': 'in', 'ytick.direction': 'in', 'font.family': ['serif'],\n",
    "                'text.usetex': True, 'text.latex.preamble': ['\\usepackage{gensymb}']}\n",
    "    sns.set_style(\"ticks\", params)\n",
    "except ImportError:\n",
    "    print('Seaborn module is not installed.')\n",
    "\n",
    "from IPython.display import display, Latex\n",
    "\n",
    "import nghxrg as ng"
   ]
  },
  {
   "cell_type": "code",
   "execution_count": 2,
   "metadata": {
    "collapsed": false
   },
   "outputs": [],
   "source": [
    "# Enable inline plotting\n",
    "%matplotlib inline\n",
    "# I prefer the image display origin in the lower left\n",
    "matplotlib.rcParams['image.origin'] = 'lower'"
   ]
  },
  {
   "cell_type": "code",
   "execution_count": 3,
   "metadata": {
    "collapsed": false
   },
   "outputs": [
    {
     "name": "stdout",
     "output_type": "stream",
     "text": [
      "1.0\n"
     ]
    }
   ],
   "source": [
    "# Instantiate a noise generator object for NIRSpec H2RGs. You\n",
    "# can set verbose=True if you want to see diagnostic information. This\n",
    "# will take about 20 seconds to execute on a modern laptop computer.\n",
    "base_dir  = '/Volumes/NIRData/NIRCam/Char_Darks/CV3/'\n",
    "bias_file = base_dir + '481/SUPER_BIAS_481.FITS'\n",
    "dark_file = base_dir + '481/SUPER_DARK_481.FITS'\n",
    "#, wind_mode='STRIPE', naxis2=256)\n",
    "ng_h2rg = ng.HXRGNoise(verbose=False, naxis3=108, \n",
    "                       bias_file=bias_file, dark_file=dark_file)"
   ]
  },
  {
   "cell_type": "code",
   "execution_count": 4,
   "metadata": {
    "collapsed": false
   },
   "outputs": [],
   "source": [
    "# Gain (e/ADU)\n",
    "gn = 2.0\n",
    "\n",
    "# Noise Values\n",
    "ktc_noise= gn*15.0    # kTC noise in electrons\n",
    "rd_noise = gn*4.0     # White read noise per integration\n",
    "c_pink   = gn*3.0     # Correlated pink noise\n",
    "# Uncorrelated pink noise\n",
    "u_pink   = gn*1.0 #np.array([1.90,1.85,1.05,1.25])     \n",
    "acn      = gn*0.0     # Correlated ACN\n",
    "pca0_amp = gn*0.0     # Amplitude of PCA zero \"picture frame\" noise\n",
    "ref_rat  = 0.9        # Ratio of reference pixel noise to that of reg pixels\n",
    "\n",
    "# Offset Values\n",
    "bias_off_avg = gn*6000.0  # On average, integrations start here in electrons\n",
    "bias_off_sig = gn*20.0    # bias_off_avg has some variation. This is its std dev.\n",
    "bias_amp     = gn*1.0     # A multiplicative factor to multiply bias_image. 1.0 for NIRCam.\n",
    "\n",
    "# Offset of each channel relative to bias_off_avg.\n",
    "ch_off = gn*np.array([1700, 500, -350, -2300])\n",
    "# Random frame-to-frame reference offsets due to PA reset\n",
    "ref_f2f_corr  = gn*14\n",
    "ref_f2f_ucorr = gn*np.array([7.0,9.0,7.5,8.0]) # per-amp\n",
    "# Relative offsets of altnernating columns\n",
    "aco_a = gn*np.array([750, 450, 900, 150])\n",
    "aco_b = -1*aco_a\n",
    "#Reference Instability\n",
    "ref_inst = gn*1.0"
   ]
  },
  {
   "cell_type": "code",
   "execution_count": 8,
   "metadata": {
    "collapsed": false
   },
   "outputs": [
    {
     "name": "stdout",
     "output_type": "stream",
     "text": [
      "0 2016-02-11T08h57m58\n",
      "1 2016-02-11T09h04m56\n",
      "2 2016-02-11T09h11m38\n",
      "3 2016-02-11T09h18m20\n",
      "4 2016-02-11T09h25m05\n",
      "5 2016-02-11T09h31m46\n",
      "6 2016-02-11T09h38m29\n",
      "7 2016-02-11T09h45m11\n",
      "8 2016-02-11T09h51m55\n",
      "9 2016-02-11T09h58m39\n",
      "10 2016-02-11T10h05m23\n",
      "11 2016-02-11T10h12m07\n",
      "12 2016-02-11T10h18m51\n",
      "13 2016-02-11T10h25m34\n",
      "14 2016-02-11T10h32m18\n"
     ]
    }
   ],
   "source": [
    "niter = 15\n",
    "outdir = base_dir + 'FITS/480/'\n",
    "name_480 = ['NRCNRCA0-DARK-',60000000000,'_1_480_SE_']\n",
    "#NRCNRCA1-DARK-60090604481_1_481_SE_2016-01-09T06h52m47.fits\n",
    "for i in range(niter):\n",
    "    now = datetime.datetime.now().isoformat()[:-7]\n",
    "    now = now.replace(':', 'h', 1)\n",
    "    now = now.replace(':', 'm', 1)\n",
    "    print(i,now);\n",
    "    name_480[1] += 1\n",
    "    file_out = outdir + name_480[0] + str(name_480[1]) + name_480[2] + now + '.fits'\n",
    "    ng_h2rg.mknoise(file_out, gain=gn, \n",
    "                rd_noise=rd_noise, c_pink=c_pink, u_pink=u_pink, \n",
    "                acn=acn, aco_a=aco_a, aco_b=aco_b, pca0_amp=pca0_amp,\n",
    "                reference_pixel_noise_ratio=ref_rat, ktc_noise=ktc_noise,\n",
    "                bias_off_avg=bias_off_avg, bias_off_sig=bias_off_sig, bias_amp=bias_amp,\n",
    "                ch_off=ch_off, ref_f2f_corr=ref_f2f_corr, ref_f2f_ucorr=ref_f2f_ucorr, ref_inst=ref_inst)"
   ]
  },
  {
   "cell_type": "code",
   "execution_count": 5,
   "metadata": {
    "collapsed": false
   },
   "outputs": [
    {
     "name": "stdout",
     "output_type": "stream",
     "text": [
      "NG: Starting mknoise() at DATETIME =  13:36:16.270304\n",
      "NG: Initializing results cube at DATETIME =  13:36:16.270369\n",
      "NG: Generating rd_noise at DATETIME =  13:36:20.438872\n",
      "NG: Adding c_pink noise at DATETIME =  13:36:48.312735\n",
      "NG: Adding u_pink noise at DATETIME =  13:38:09.672180\n",
      "NG: Adding dark current at DATETIME =  13:42:45.886230\n",
      "NG: Applying Gain at DATETIME =  13:43:07.174109\n",
      "NG: Converting to 16-bit unsigned integer at DATETIME =  13:43:07.491851\n",
      "NG: Writing FITS file at DATETIME =  13:43:10.442212\n",
      "NG: Exiting mknoise() at DATETIME =  13:43:20.381227\n",
      "NG: Starting mknoise() at DATETIME =  13:43:20.592739\n",
      "NG: Initializing results cube at DATETIME =  13:43:20.593295\n",
      "NG: Generating rd_noise at DATETIME =  13:43:24.808941\n",
      "NG: Adding c_pink noise at DATETIME =  13:43:53.085844\n",
      "NG: Adding u_pink noise at DATETIME =  13:45:04.021403\n",
      "NG: Adding dark current at DATETIME =  13:49:37.224716\n",
      "NG: Applying Gain at DATETIME =  13:49:58.590090\n",
      "NG: Converting to 16-bit unsigned integer at DATETIME =  13:49:58.918541\n",
      "NG: Writing FITS file at DATETIME =  13:50:01.884812\n",
      "NG: Exiting mknoise() at DATETIME =  13:50:11.762804\n",
      "NG: Starting mknoise() at DATETIME =  13:50:11.978740\n",
      "NG: Initializing results cube at DATETIME =  13:50:11.979309\n",
      "NG: Generating rd_noise at DATETIME =  13:50:16.190648\n",
      "NG: Adding c_pink noise at DATETIME =  13:50:44.598867\n",
      "NG: Adding u_pink noise at DATETIME =  13:51:56.305936\n",
      "NG: Adding dark current at DATETIME =  13:56:28.589244\n",
      "NG: Applying Gain at DATETIME =  13:56:49.769373\n",
      "NG: Converting to 16-bit unsigned integer at DATETIME =  13:56:50.091067\n",
      "NG: Writing FITS file at DATETIME =  13:56:52.997959\n",
      "NG: Exiting mknoise() at DATETIME =  13:57:03.037110\n"
     ]
    }
   ],
   "source": [
    "fext_list = ['0.fits','2.fits','5.fits']\n",
    "#file_out = base_dir + '489_fake_dark_2.0.fits'\n",
    "for fext in fext_list:\n",
    "    file_out = base_dir + '489_fake_dark_2.' + fext\n",
    "    ng_h2rg.mknoise(file_out, gain=gn, \n",
    "                rd_noise=rd_noise, c_pink=c_pink, u_pink=u_pink, \n",
    "                acn=acn, aco_a=aco_a, aco_b=aco_b, pca0_amp=pca0_amp,\n",
    "                reference_pixel_noise_ratio=ref_rat, ktc_noise=ktc_noise,\n",
    "                bias_off_avg=bias_off_avg, bias_off_sig=bias_off_sig, bias_amp=bias_amp,\n",
    "                ch_off=ch_off, ref_f2f_corr=ref_f2f_corr, ref_f2f_ucorr=ref_f2f_ucorr)"
   ]
  },
  {
   "cell_type": "code",
   "execution_count": 6,
   "metadata": {
    "collapsed": false
   },
   "outputs": [],
   "source": [
    "del ng_h2rg"
   ]
  },
  {
   "cell_type": "code",
   "execution_count": 9,
   "metadata": {
    "collapsed": false
   },
   "outputs": [],
   "source": [
    "#data = hdu.data\n",
    "#data.astype('float32')\n",
    "#cds = data[1,:,:] - data[0,:,:]\n",
    "#data.mean()"
   ]
  },
  {
   "cell_type": "code",
   "execution_count": 10,
   "metadata": {
    "collapsed": false
   },
   "outputs": [],
   "source": [
    "#plt.figure(figsize=(15,15))\n",
    "#plt.imshow(data[1,:,:])#cds)"
   ]
  }
 ],
 "metadata": {
  "anaconda-cloud": {},
  "kernelspec": {
   "display_name": "Python [Root]",
   "language": "python",
   "name": "Python [Root]"
  },
  "language_info": {
   "codemirror_mode": {
    "name": "ipython",
    "version": 2
   },
   "file_extension": ".py",
   "mimetype": "text/x-python",
   "name": "python",
   "nbconvert_exporter": "python",
   "pygments_lexer": "ipython2",
   "version": "2.7.12"
  }
 },
 "nbformat": 4,
 "nbformat_minor": 0
}
