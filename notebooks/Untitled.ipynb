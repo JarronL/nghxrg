{
 "cells": [
  {
   "cell_type": "code",
   "execution_count": 2,
   "metadata": {
    "collapsed": false
   },
   "outputs": [],
   "source": [
    "# Makes print and division act like Python 3\n",
    "from __future__ import print_function, division\n",
    "\n",
    "# Import the usual libraries\n",
    "import numpy as np\n",
    "import matplotlib\n",
    "import matplotlib.pyplot as plt\n",
    "import datetime\n",
    "\n",
    "import pandas as pd\n",
    "\n",
    "# seaborn package for making pretty plots, but not necessary\n",
    "try:\n",
    "    import seaborn as sns\n",
    "    params =   {'xtick.direction': 'in', 'ytick.direction': 'in', 'font.family': ['serif'],\n",
    "                'text.usetex': True, 'text.latex.preamble': ['\\usepackage{gensymb}']}\n",
    "    sns.set_style(\"ticks\", params)\n",
    "except ImportError:\n",
    "    print('Seaborn module is not installed.')\n",
    "\n",
    "from IPython.display import display, Latex\n",
    "\n",
    "import nghxrg as ng\n",
    "import ngNRC"
   ]
  },
  {
   "cell_type": "code",
   "execution_count": 3,
   "metadata": {
    "collapsed": true
   },
   "outputs": [],
   "source": [
    "# Enable inline plotting\n",
    "%matplotlib inline\n",
    "# I prefer the image display origin in the lower left\n",
    "matplotlib.rcParams['image.origin'] = 'lower'"
   ]
  },
  {
   "cell_type": "code",
   "execution_count": 9,
   "metadata": {
    "collapsed": false
   },
   "outputs": [
    {
     "name": "stdout",
     "output_type": "stream",
     "text": [
      "CPU times: user 5min 37s, sys: 59.9 s, total: 6min 36s\n",
      "Wall time: 6min 37s\n"
     ]
    }
   ],
   "source": [
    "params = {'ngroup': 108, 'wind_mode': 'FULL', \n",
    "        'xpix': 2048, 'ypix': 2048, 'x0':0, 'y0':0}\n",
    "\n",
    "# Don't save file, but keep hdu in e- for adding to simulated observation ramp\n",
    "scaid = 481\n",
    "caldir = '/Volumes/NIRData/sca_images/'\n",
    "%time hdu = ngNRC.SCAnoise(scaid, params, file_out=None, caldir=caldir, \\\n",
    "    dark=True, bias=True, out_ADU=False, use_fftw=False, ncores=None, verbose=False)"
   ]
  },
  {
   "cell_type": "code",
   "execution_count": 10,
   "metadata": {
    "collapsed": false
   },
   "outputs": [
    {
     "name": "stdout",
     "output_type": "stream",
     "text": [
      "CPU times: user 10min 31s, sys: 1min 16s, total: 11min 48s\n",
      "Wall time: 5min 54s\n"
     ]
    }
   ],
   "source": [
    "%time hdu = ngNRC.SCAnoise(scaid, params, file_out=None, caldir=caldir, \\\n",
    "    dark=True, bias=True, out_ADU=False, use_fftw=True, ncores=8, verbose=False)"
   ]
  },
  {
   "cell_type": "code",
   "execution_count": 11,
   "metadata": {
    "collapsed": false
   },
   "outputs": [
    {
     "name": "stdout",
     "output_type": "stream",
     "text": [
      "CPU times: user 12min 28s, sys: 1min 29s, total: 13min 57s\n",
      "Wall time: 5min 50s\n"
     ]
    }
   ],
   "source": [
    "%time hdu = ngNRC.SCAnoise(scaid, params, file_out=None, caldir=caldir, \\\n",
    "    dark=True, bias=True, out_ADU=False, use_fftw=True, ncores=16, verbose=False)"
   ]
  },
  {
   "cell_type": "code",
   "execution_count": 22,
   "metadata": {
    "collapsed": false
   },
   "outputs": [
    {
     "name": "stdout",
     "output_type": "stream",
     "text": [
      "NG: Starting mknoise() at DATETIME =  15:07:13.991891\n",
      "NG: Initializing results cube at DATETIME =  15:07:13.992084\n",
      "NG: Generating rd_noise at DATETIME =  15:07:14.623760\n",
      "NG: Adding c_pink noise at DATETIME =  15:07:17.168767\n",
      "NG: Adding u_pink noise at DATETIME =  15:07:25.303453\n",
      "NG: Adding acn noise at DATETIME =  15:07:57.410872\n",
      "NG: Adding PCA-zero \"picture frame\" noise at DATETIME =  15:08:28.003820\n",
      "NG: Converting to 16-bit unsigned integer at DATETIME =  15:08:36.283412\n",
      "NG: Exiting mknoise() at DATETIME =  15:08:36.496025\n",
      "CPU times: user 1min 9s, sys: 13 s, total: 1min 22s\n",
      "Wall time: 1min 22s\n"
     ]
    }
   ],
   "source": [
    "rd_noise    =  4.0\n",
    "pedestal    =  4.0\n",
    "c_pink      =  3.0\n",
    "u_pink      =  1.0\n",
    "acn         =  0.5\n",
    "pca0_amp    =  0.2\n",
    "bias_amp    =  500.0\n",
    "bias_offset =  5000.0\n",
    "ktc_noise   =  29\n",
    "bias_amp    =  1.0\n",
    "bias_offset =  0.0\n",
    "ktc_noise   =  1\n",
    "\n",
    "ng_h2rg_cube = ng.HXRGNoise(naxis1=2048, naxis2=2048, naxis3=10, verbose=True, use_fftw=False, ncores=None, \\\n",
    "    bias_file='/Volumes/NIRData/sca_images/SUPER_BIAS_481.FITS')\n",
    "\n",
    "%time my_hdu = ng_h2rg_cube.mknoise(rd_noise=rd_noise, c_pink=c_pink, u_pink=u_pink, acn=acn, \\\n",
    "    pca0_amp=pca0_amp, bias_amp=bias_amp, ktc_noise=ktc_noise)"
   ]
  },
  {
   "cell_type": "code",
   "execution_count": 18,
   "metadata": {
    "collapsed": false
   },
   "outputs": [],
   "source": [
    "del my_hdu\n",
    "del hdu\n",
    "del ng_h2rg_cube"
   ]
  },
  {
   "cell_type": "code",
   "execution_count": 21,
   "metadata": {
    "collapsed": false
   },
   "outputs": [
    {
     "name": "stdout",
     "output_type": "stream",
     "text": [
      "NG: Starting mknoise() at DATETIME =  15:05:38.640945\n",
      "NG: Initializing results cube at DATETIME =  15:05:38.641099\n",
      "NG: Generating rd_noise at DATETIME =  15:05:39.276824\n",
      "NG: Adding c_pink noise at DATETIME =  15:05:41.811835\n",
      "NG: Adding u_pink noise at DATETIME =  15:05:48.419397\n",
      "NG: Adding acn noise at DATETIME =  15:06:13.302135\n",
      "NG: Adding PCA-zero \"picture frame\" noise at DATETIME =  15:06:40.231112\n",
      "NG: Converting to 16-bit unsigned integer at DATETIME =  15:06:46.932843\n",
      "NG: Exiting mknoise() at DATETIME =  15:06:47.143690\n",
      "CPU times: user 2min 8s, sys: 18 s, total: 2min 26s\n",
      "Wall time: 1min 8s\n"
     ]
    }
   ],
   "source": [
    "ng_h2rg_cube = ng.HXRGNoise(naxis1=2048, naxis2=2048, naxis3=10, verbose=True, use_fftw=True, ncores=8, \\\n",
    "    bias_file='/Volumes/NIRData/sca_images/SUPER_BIAS_481.FITS')\n",
    "\n",
    "%time my_hdu = ng_h2rg_cube.mknoise(rd_noise=rd_noise, c_pink=c_pink, u_pink=u_pink, acn=acn, \\\n",
    "    pca0_amp=pca0_amp, bias_amp=bias_amp, ktc_noise=ktc_noise)"
   ]
  },
  {
   "cell_type": "code",
   "execution_count": 24,
   "metadata": {
    "collapsed": false
   },
   "outputs": [
    {
     "name": "stdout",
     "output_type": "stream",
     "text": [
      "NG: Starting mknoise() at DATETIME =  15:13:21.611746\n",
      "NG: Initializing results cube at DATETIME =  15:13:21.611890\n",
      "NG: Generating rd_noise at DATETIME =  15:13:22.232219\n",
      "NG: Adding c_pink noise at DATETIME =  15:13:24.593339\n",
      "NG: Adding u_pink noise at DATETIME =  15:13:32.006822\n",
      "NG: Adding acn noise at DATETIME =  15:14:00.432623\n",
      "NG: Adding PCA-zero \"picture frame\" noise at DATETIME =  15:14:31.410006\n",
      "NG: Converting to 16-bit unsigned integer at DATETIME =  15:14:38.999739\n",
      "NG: Exiting mknoise() at DATETIME =  15:14:39.210481\n",
      "CPU times: user 2min 4s, sys: 15.9 s, total: 2min 20s\n",
      "Wall time: 1min 17s\n"
     ]
    }
   ],
   "source": [
    "ng_h2rg_cube = ng.HXRGNoise(naxis1=2048, naxis2=2048, naxis3=10, verbose=True, use_fftw=True, ncores=4, \\\n",
    "    bias_file='/Volumes/NIRData/sca_images/SUPER_BIAS_481.FITS')\n",
    "\n",
    "%time my_hdu = ng_h2rg_cube.mknoise(rd_noise=rd_noise, c_pink=c_pink, u_pink=u_pink, acn=acn, \\\n",
    "    pca0_amp=pca0_amp, bias_amp=bias_amp, ktc_noise=ktc_noise)"
   ]
  },
  {
   "cell_type": "code",
   "execution_count": null,
   "metadata": {
    "collapsed": true
   },
   "outputs": [],
   "source": []
  }
 ],
 "metadata": {
  "anaconda-cloud": {},
  "kernelspec": {
   "display_name": "Python [default]",
   "language": "python",
   "name": "python2"
  },
  "language_info": {
   "codemirror_mode": {
    "name": "ipython",
    "version": 2
   },
   "file_extension": ".py",
   "mimetype": "text/x-python",
   "name": "python",
   "nbconvert_exporter": "python",
   "pygments_lexer": "ipython2",
   "version": "2.7.12"
  }
 },
 "nbformat": 4,
 "nbformat_minor": 0
}
